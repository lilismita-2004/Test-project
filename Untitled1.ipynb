{
  "cells": [
    {
      "cell_type": "markdown",
      "metadata": {
        "id": "view-in-github",
        "colab_type": "text"
      },
      "source": [
        "<a href=\"https://colab.research.google.com/github/lilismita-2004/Test-project/blob/main/Untitled1.ipynb\" target=\"_parent\"><img src=\"https://colab.research.google.com/assets/colab-badge.svg\" alt=\"Open In Colab\"/></a>"
      ]
    },
    {
      "cell_type": "code",
      "execution_count": null,
      "metadata": {
        "colab": {
          "base_uri": "https://localhost:8080/"
        },
        "id": "soKViTdlypF-",
        "outputId": "2f3391a8-c1b5-4fb4-90e1-80308e6eaf01"
      },
      "outputs": [
        {
          "name": "stdout",
          "output_type": "stream",
          "text": [
            "Hello\n"
          ]
        }
      ],
      "source": [
        "print('Hello')"
      ]
    },
    {
      "cell_type": "code",
      "execution_count": null,
      "metadata": {
        "colab": {
          "base_uri": "https://localhost:8080/"
        },
        "id": "iyrZAq3Ayw3V",
        "outputId": "d4def1c7-929e-4e71-82e4-20927f9dedb6"
      },
      "outputs": [
        {
          "name": "stdout",
          "output_type": "stream",
          "text": [
            "a != b =  True\n"
          ]
        }
      ],
      "source": [
        "a=4\n",
        "b=8\n",
        "d =a != b\n",
        "print('a != b = ',d)"
      ]
    },
    {
      "cell_type": "code",
      "execution_count": null,
      "metadata": {
        "colab": {
          "base_uri": "https://localhost:8080/"
        },
        "id": "a8SKcgCQzIyz",
        "outputId": "14d0ba6b-76a8-4a0b-8aeb-fb44c43256d8"
      },
      "outputs": [
        {
          "name": "stdout",
          "output_type": "stream",
          "text": [
            "b in a= False\n",
            "b not in a= True\n"
          ]
        }
      ],
      "source": [
        "# in and not in opertor\n",
        "a=\"Hello\"\n",
        "b=\"1\"\n",
        "c=b in a\n",
        "print ('b in a=',c)\n",
        "d =b not in a\n",
        "print('b not in a=',d)\n"
      ]
    },
    {
      "cell_type": "code",
      "execution_count": null,
      "metadata": {
        "id": "j1it6md-2SGF"
      },
      "outputs": [],
      "source": []
    },
    {
      "cell_type": "code",
      "execution_count": null,
      "metadata": {
        "colab": {
          "base_uri": "https://localhost:8080/"
        },
        "id": "_0rnAV8J0IzO",
        "outputId": "d9bebcfd-2dc7-4e7f-8a51-8b316f8be594"
      },
      "outputs": [
        {
          "name": "stdout",
          "output_type": "stream",
          "text": [
            "enter a no26\n",
            "even no\n"
          ]
        }
      ],
      "source": [
        "#input a no and check even.\n",
        "a=int(input('enter a no'))\n",
        "if a%2==0:\n",
        "  print ('even no')"
      ]
    },
    {
      "cell_type": "code",
      "execution_count": null,
      "metadata": {
        "colab": {
          "base_uri": "https://localhost:8080/"
        },
        "id": "ZkfAYf1hckP-",
        "outputId": "3ca80c89-25c3-460a-8762-e91978a498f2"
      },
      "outputs": [
        {
          "name": "stdout",
          "output_type": "stream",
          "text": [
            "a= 100\n"
          ]
        }
      ],
      "source": [
        "a=100\n",
        "print(\"a=\",a)"
      ]
    },
    {
      "cell_type": "code",
      "execution_count": null,
      "metadata": {
        "colab": {
          "base_uri": "https://localhost:8080/"
        },
        "id": "iMbIyQj9bUFb",
        "outputId": "9183b5da-d94e-4c11-e5f1-5308b5b3397b"
      },
      "outputs": [
        {
          "name": "stdout",
          "output_type": "stream",
          "text": [
            "Enter first No:567\n",
            "Enter second No:76767\n",
            "56776767\n"
          ]
        }
      ],
      "source": [
        "a=input('Enter first No:')\n",
        "b=input('Enter second No:')\n",
        "c=a+b\n",
        "print(c)"
      ]
    },
    {
      "cell_type": "code",
      "execution_count": null,
      "metadata": {
        "colab": {
          "base_uri": "https://localhost:8080/"
        },
        "id": "PWuP5GFIc5gs",
        "outputId": "9cb14ec6-b947-4c3b-c2a0-8763abd3e7e8"
      },
      "outputs": [
        {
          "name": "stdout",
          "output_type": "stream",
          "text": [
            "Enter b=?11\n",
            "Enter h=?12\n",
            "AREA OF TRIANGLE= 18.0\n",
            "Enter a=?8\n",
            "Enter b=?6\n",
            "Enter c=?9\n",
            "PERiMETER OF TRIANGLE= 432\n"
          ]
        }
      ],
      "source": [
        "# To find Area and perimeter\n",
        "# Triangle Area=1/2*b*h,perimeter=a+b+c\n",
        "b4=int(input('Enter b=?'))\n",
        "h=int(input('Enter h=?'))\n",
        "area= 0.5 * b * h\n",
        "print('AREA OF TRIANGLE=',area)\n",
        "#Triangle perimeter=a+b+c\n",
        "a=int(input('Enter a=?'))\n",
        "b=int(input('Enter b=?'))\n",
        "c=int(input('Enter c=?'))\n",
        "perimeter=a*b*c\n",
        "print('PERiMETER OF TRIANGLE=',perimeter)"
      ]
    },
    {
      "cell_type": "code",
      "execution_count": null,
      "metadata": {
        "colab": {
          "base_uri": "https://localhost:8080/"
        },
        "id": "gYnFacPHc5Oc",
        "outputId": "7cf8f1d2-7b71-4d54-b79e-3d02bfc1090b"
      },
      "outputs": [
        {
          "name": "stdout",
          "output_type": "stream",
          "text": [
            "A\n",
            "I\n",
            "T\n"
          ]
        }
      ],
      "source": [
        "for var in\"ABIT\":\n",
        "  if var==\"B\":\n",
        "    continue\n",
        "  print(var)"
      ]
    },
    {
      "cell_type": "code",
      "execution_count": null,
      "metadata": {
        "colab": {
          "base_uri": "https://localhost:8080/"
        },
        "id": "EtEaZ8A7syFY",
        "outputId": "b6f9e37a-56a2-4aad-ad40-69f995535532"
      },
      "outputs": [
        {
          "name": "stdout",
          "output_type": "stream",
          "text": [
            "0\n",
            "1\n",
            "2\n"
          ]
        }
      ],
      "source": [
        "for i in range(10):\n",
        "  print(i)\n",
        "  if i==2:\n",
        "    break\n"
      ]
    },
    {
      "cell_type": "code",
      "execution_count": null,
      "metadata": {
        "colab": {
          "base_uri": "https://localhost:8080/"
        },
        "id": "NAjr_DNCulUW",
        "outputId": "d9bec66f-58e5-496d-bc55-8fe7326e23e9"
      },
      "outputs": [
        {
          "name": "stdout",
          "output_type": "stream",
          "text": [
            "7.25\n"
          ]
        }
      ],
      "source": [
        "x = abs(-7.25)\n",
        "print(x)"
      ]
    },
    {
      "cell_type": "code",
      "execution_count": null,
      "metadata": {
        "colab": {
          "base_uri": "https://localhost:8080/"
        },
        "id": "UlqQiYymvH5B",
        "outputId": "53bcb680-4163-49a0-bfea-f51fcde0ae2b"
      },
      "outputs": [
        {
          "name": "stdout",
          "output_type": "stream",
          "text": [
            "False\n"
          ]
        }
      ],
      "source": [
        "list = [0,2,2]\n",
        "a = all(list)\n",
        "print(a)"
      ]
    },
    {
      "cell_type": "code",
      "execution_count": null,
      "metadata": {
        "colab": {
          "base_uri": "https://localhost:8080/"
        },
        "id": "p82mzThwxc6x",
        "outputId": "f17f8546-5af5-4dc2-9468-208e07c20ff0"
      },
      "outputs": [
        {
          "name": "stdout",
          "output_type": "stream",
          "text": [
            "True\n"
          ]
        }
      ],
      "source": [
        "tuple = (0, 1, False)\n",
        "a = any(tuple)\n",
        "print(a)"
      ]
    },
    {
      "cell_type": "code",
      "execution_count": null,
      "metadata": {
        "colab": {
          "base_uri": "https://localhost:8080/"
        },
        "id": "xs8D_orvxzVf",
        "outputId": "d31e8f9f-79a4-418c-ac42-c0bd31aca7ac"
      },
      "outputs": [
        {
          "name": "stdout",
          "output_type": "stream",
          "text": [
            "'Mostly same'\n"
          ]
        }
      ],
      "source": [
        "a =ascii(\"Mostly same\")\n",
        "print(a)"
      ]
    },
    {
      "cell_type": "code",
      "execution_count": null,
      "metadata": {
        "colab": {
          "base_uri": "https://localhost:8080/"
        },
        "id": "NFMNbzd7yWFg",
        "outputId": "f1eb1709-6bf6-4ee8-acf7-fe9785878fb9"
      },
      "outputs": [
        {
          "name": "stdout",
          "output_type": "stream",
          "text": [
            "0b11110\n"
          ]
        }
      ],
      "source": [
        "a = bin(30)\n",
        "print(a)"
      ]
    },
    {
      "cell_type": "code",
      "execution_count": null,
      "metadata": {
        "id": "pLqakisryx_b"
      },
      "outputs": [],
      "source": [
        "# user defind function\n",
        "def show():\n",
        "  print('Hello CSE')\n",
        "  show()"
      ]
    },
    {
      "cell_type": "code",
      "execution_count": null,
      "metadata": {
        "colab": {
          "base_uri": "https://localhost:8080/"
        },
        "id": "wjLvycjWzphf",
        "outputId": "e36b4600-a1d7-462e-907d-f48fb414abf0"
      },
      "outputs": [
        {
          "name": "stdout",
          "output_type": "stream",
          "text": [
            "SUM OF TWO NOS= 30\n"
          ]
        }
      ],
      "source": [
        "# passing parameters in user Defind Function\n",
        "def ADD(a,b):\n",
        "  c=a+b\n",
        "  print('SUM OF TWO NOS=',c)\n",
        "ADD(10,20)"
      ]
    },
    {
      "cell_type": "code",
      "execution_count": null,
      "metadata": {
        "id": "CQKHn6lH0eLh"
      },
      "outputs": [],
      "source": [
        "# passing parameters in user Defind Function\n",
        "def ADD(a,b):\n",
        "  c=a+b\n",
        "  print('SUM OF TWO NOS=',c)\n",
        "  p=int(input(\"Enter first no=?\"))\n",
        "  q=int(input(\"Enter second no=?\"))\n",
        "  ADD(p,q)"
      ]
    },
    {
      "cell_type": "code",
      "execution_count": null,
      "metadata": {
        "colab": {
          "base_uri": "https://localhost:8080/"
        },
        "id": "_9pPd3H31_2c",
        "outputId": "38dc838e-8204-4002-b15f-b812ed9bac81"
      },
      "outputs": [
        {
          "name": "stdout",
          "output_type": "stream",
          "text": [
            "Enter n=?5\n",
            "sum of n= 15\n"
          ]
        }
      ],
      "source": [
        "# using return statement in user defind function\n",
        "def sumfn(n):\n",
        "  s=0\n",
        "  for i in range(1,n+1):\n",
        "    s=s+i\n",
        "  return(s)\n",
        "m=int(input(\"Enter n=?\"))\n",
        "print('sum of n=',sumfn(m))\n"
      ]
    },
    {
      "cell_type": "code",
      "execution_count": null,
      "metadata": {
        "id": "ZEgVWO9l4pyt"
      },
      "outputs": [],
      "source": [
        "list1 = ['i','LOVE','python','ABIT']\n",
        "list2 =[1,2,3,4,5,6]\n",
        "list3 =['python',20,54,6,'lili','a','b']"
      ]
    },
    {
      "cell_type": "code",
      "execution_count": null,
      "metadata": {
        "id": "da3tfx-0B0bU"
      },
      "outputs": [],
      "source": [
        "list=[[10,20,30,40,50,60,70,80,90]]"
      ]
    },
    {
      "cell_type": "code",
      "execution_count": null,
      "metadata": {
        "id": "6yAtuuL8Mgin"
      },
      "outputs": [],
      "source": [
        "\n"
      ]
    },
    {
      "cell_type": "code",
      "execution_count": null,
      "metadata": {
        "colab": {
          "base_uri": "https://localhost:8080/"
        },
        "id": "bahVaBlRMXVC",
        "outputId": "9a09fb0e-5916-4257-f68d-4aa2fd22838f"
      },
      "outputs": [
        {
          "name": "stdout",
          "output_type": "stream",
          "text": [
            "Enter b:12\n",
            "Enter h:5\n",
            "Area of a triangle is= 30.0\n",
            "Enter a:8\n",
            "Enter b:2\n",
            "Enter c:7\n",
            "perimeter of a triangle is= 112\n"
          ]
        }
      ],
      "source": [
        "# Traiangle area\n",
        "b=int(input('Enter b:'))\n",
        "h=int(input('Enter h:'))\n",
        "area=0.5*b*h\n",
        "print('Area of a triangle is=',area)\n",
        "# Traiangle perimeter\n",
        "a=int(input('Enter a:'))\n",
        "b=int(input('Enter b:'))\n",
        "c=int(input('Enter c:'))\n",
        "perimeter=a*b*c\n",
        "print('perimeter of a triangle is=',perimeter)"
      ]
    },
    {
      "cell_type": "code",
      "execution_count": null,
      "metadata": {
        "colab": {
          "base_uri": "https://localhost:8080/"
        },
        "id": "U5Wty1_fO0zU",
        "outputId": "e86c0ec6-53ea-4860-a2dc-c028a5a0e336"
      },
      "outputs": [
        {
          "name": "stdout",
          "output_type": "stream",
          "text": [
            "Enter b:4\n",
            "Enter l:5\n",
            "Area of a rectangle is= 4\n",
            "Enter a:3\n",
            "Enter b:2\n",
            "perimeter of a rectangle is= 10\n"
          ]
        }
      ],
      "source": [
        "# Rectangle area\n",
        "b=int(input('Enter b:'))\n",
        "i=int(input('Enter l:'))\n",
        "area=1*b\n",
        "print('Area of a rectangle is=',area)\n",
        "# Rectangle perimeter\n",
        "a=int(input('Enter a:'))\n",
        "b=int(input('Enter b:'))\n",
        "perimeter=2*(a+b)\n",
        "print('perimeter of a rectangle is=',perimeter)\n",
        "\n"
      ]
    },
    {
      "cell_type": "code",
      "execution_count": null,
      "metadata": {
        "colab": {
          "base_uri": "https://localhost:8080/"
        },
        "id": "NInqGKh_R8vW",
        "outputId": "1ff1249a-9d44-4fb8-eebe-3b4f1e65ec58"
      },
      "outputs": [
        {
          "name": "stdout",
          "output_type": "stream",
          "text": [
            "Enter s:20\n",
            "volume of a cube is= 6400\n",
            "Enter s:12\n",
            "surface area of a cube is= 1152\n"
          ]
        }
      ],
      "source": [
        "from re import S\n",
        "# Cube volume\n",
        "s=int(input('Enter s:'))\n",
        "volume=s*s*S\n",
        "print('volume of a cube is=',volume)\n",
        "# cube surface area\n",
        "s=int(input('Enter s:',))\n",
        "surface_area=6*s*S\n",
        "print('surface area of a cube is=',surface_area)\n"
      ]
    },
    {
      "cell_type": "code",
      "execution_count": null,
      "metadata": {
        "colab": {
          "base_uri": "https://localhost:8080/"
        },
        "id": "GJqu3PbSTefL",
        "outputId": "fe941421-6c5f-4e26-ca5a-249794954aaa"
      },
      "outputs": [
        {
          "name": "stdout",
          "output_type": "stream",
          "text": [
            "Enter l:3\n",
            "Enter w:4\n",
            "Enter h:8\n",
            "volume of a cuboid is = 96\n",
            "Enter l:6\n",
            "Enter w:4\n",
            "Enter h:2\n",
            "surface area of a cuboid is= 88\n"
          ]
        }
      ],
      "source": [
        "# Cuboid volume\n",
        "l=int(input('Enter l:'))\n",
        "w=int(input('Enter w:'))\n",
        "h=int(input('Enter h:'))\n",
        "volume=l*w*h\n",
        "print('volume of a cuboid is =',volume)\n",
        "# cuboide surface area\n",
        "l=int(input('Enter l:'))\n",
        "w=int(input('Enter w:'))\n",
        "h=int(input('Enter h:'))\n",
        "surface_area=(2*l*h)+(2*l*w)+(2*w*h)\n",
        "print('surface area of a cuboid is=',surface_area)"
      ]
    },
    {
      "cell_type": "code",
      "execution_count": null,
      "metadata": {
        "id": "7wicr30oV-5n"
      },
      "outputs": [],
      "source": [
        "# Reverse without using looping\n",
        "rev=0\n",
        "base=1;\n",
        "def reverse(num):\n",
        "  global rev\n",
        "  global base\n",
        "  if(num>0):\n",
        "    reverse((int)(num/10))\n",
        "    rev+=(num%10)*base\n",
        "    base*=10\n",
        "    return rev\n",
        "    num=1234567\n",
        "    prunt(reverse(num))\n"
      ]
    },
    {
      "cell_type": "code",
      "execution_count": null,
      "metadata": {
        "colab": {
          "base_uri": "https://localhost:8080/"
        },
        "id": "Y03gu7-omvyh",
        "outputId": "16bf0cf4-75b4-4522-84ff-477e8c44a302"
      },
      "outputs": [
        {
          "name": "stdout",
          "output_type": "stream",
          "text": [
            "['apple', 'orange', 'banana']\n"
          ]
        }
      ],
      "source": [
        "my_list = [\"apple\",\"orange\",\"banana\"]\n",
        "print(my_list)"
      ]
    },
    {
      "cell_type": "code",
      "execution_count": null,
      "metadata": {
        "colab": {
          "base_uri": "https://localhost:8080/"
        },
        "id": "pJUZw5Diod33",
        "outputId": "80e1fcd8-e6da-4daf-d54a-347cd1dd3ba4"
      },
      "outputs": [
        {
          "name": "stdout",
          "output_type": "stream",
          "text": [
            "<class 'str'>\n"
          ]
        }
      ],
      "source": [
        "print(type('fruit'))\n"
      ]
    },
    {
      "cell_type": "code",
      "execution_count": null,
      "metadata": {
        "colab": {
          "base_uri": "https://localhost:8080/"
        },
        "id": "-fD_N4fWov5u",
        "outputId": "72ce7dd6-cfc5-4fb9-eef7-cfb6fb275e93"
      },
      "outputs": [
        {
          "name": "stdout",
          "output_type": "stream",
          "text": [
            "<class 'str'>\n",
            "<class 'int'>\n",
            "<class 'bool'>\n",
            "<class 'bool'>\n"
          ]
        }
      ],
      "source": [
        "print(type('lili'))\n",
        "print(type(23))\n",
        "print(type(True))\n",
        "print(type(False))"
      ]
    },
    {
      "cell_type": "code",
      "execution_count": null,
      "metadata": {
        "colab": {
          "base_uri": "https://localhost:8080/"
        },
        "id": "zCx8duvasZ6Z",
        "outputId": "a11054d2-409b-4c02-9332-ad08e5bece27"
      },
      "outputs": [
        {
          "name": "stdout",
          "output_type": "stream",
          "text": [
            "4\n",
            "[1, 8, 5]\n",
            "[True, False, False, True]\n",
            "['apple', 1, 2, 'orange', True]\n",
            "orange\n",
            "[1, 2, 'orange']\n"
          ]
        }
      ],
      "source": [
        "Mylist = ['apple','banana','cherry','orange']\n",
        "print(len(Mylist))\n",
        "yourlist = [1,8,5]\n",
        "print(yourlist)\n",
        "mylist=[True,False,False,True]\n",
        "print(mylist)\n",
        "mix=['apple',1,2,'orange',True]\n",
        "print(mix)\n",
        "print(mix[-2])\n",
        "print(mix[1:4])\n"
      ]
    },
    {
      "cell_type": "code",
      "execution_count": null,
      "metadata": {
        "colab": {
          "base_uri": "https://localhost:8080/"
        },
        "id": "-tpTGD-UuTW-",
        "outputId": "6157ce93-e8a2-4fd4-a63b-bd56e64206d8"
      },
      "outputs": [
        {
          "name": "stdout",
          "output_type": "stream",
          "text": [
            "it is in the list\n"
          ]
        }
      ],
      "source": [
        "Mylist=['apple','orange','banana']\n",
        "if\"apple\"  in Mylist:\n",
        "  print('it is in the list')"
      ]
    },
    {
      "cell_type": "code",
      "execution_count": null,
      "metadata": {
        "colab": {
          "base_uri": "https://localhost:8080/"
        },
        "id": "nmUN4dHa3z9P",
        "outputId": "b94fc17e-b1fc-4950-8499-268f28c0ff3c"
      },
      "outputs": [
        {
          "name": "stdout",
          "output_type": "stream",
          "text": [
            "['apple', 'mango', 'banana']\n"
          ]
        }
      ],
      "source": [
        "Mylist[1]=\"mango\"\n",
        "print(Mylist)\n",
        "\n"
      ]
    },
    {
      "cell_type": "code",
      "execution_count": null,
      "metadata": {
        "colab": {
          "base_uri": "https://localhost:8080/"
        },
        "id": "MrAChvgq53bh",
        "outputId": "1fa6ddef-f5cf-43b6-f7f1-64c2ff3363cc"
      },
      "outputs": [
        {
          "name": "stdout",
          "output_type": "stream",
          "text": [
            "['apple', 'mango', 'banana', 'kiwi']\n"
          ]
        }
      ],
      "source": [
        "Mylist.insert(3,\"kiwi\")\n",
        "print(Mylist)"
      ]
    },
    {
      "cell_type": "code",
      "execution_count": null,
      "metadata": {
        "colab": {
          "base_uri": "https://localhost:8080/"
        },
        "id": "DW995igP8bHu",
        "outputId": "1a52de3a-b1a3-4509-c101-cb6bf9975ea3"
      },
      "outputs": [
        {
          "name": "stdout",
          "output_type": "stream",
          "text": [
            "['apple', 'mango', 'banana', 'kiwi', 'mango']\n"
          ]
        }
      ],
      "source": [
        "Mylist.append(\"mango\")\n",
        "print(Mylist)"
      ]
    },
    {
      "cell_type": "code",
      "execution_count": null,
      "metadata": {
        "colab": {
          "background_save": true
        },
        "id": "nv8nwYkx8p1Y"
      },
      "outputs": [],
      "source": [
        "Mylist1 =['apple','orange','banana']\n",
        "Mylist =['app','or','ab']\n",
        "print(Mylist1)"
      ]
    },
    {
      "cell_type": "code",
      "execution_count": null,
      "metadata": {
        "id": "gnLim1xmNmCY"
      },
      "outputs": [],
      "source": [
        "# Reverse without using looping\n",
        "rev=0\n",
        "base=1;\n",
        "def reverse(num):\n",
        "  global rev\n",
        "  global base\n",
        "  if(num>0):\n",
        "    reverse((int)(num/10))\n",
        "    rev+m(num%10)*base\n",
        "    base*=10\n",
        "    return rev\n",
        "    num=1234567\n",
        "    print(reverse(num))"
      ]
    },
    {
      "cell_type": "code",
      "execution_count": null,
      "metadata": {
        "colab": {
          "background_save": true
        },
        "id": "kszJYp1T-DMf",
        "outputId": "ac36354a-a27b-4cfe-ac4a-0c4e6c50b4be"
      },
      "outputs": [
        {
          "name": "stdout",
          "output_type": "stream",
          "text": [
            "['app', 'or', 'ab']\n"
          ]
        }
      ],
      "source": [
        "Mylist1.rem"
      ]
    },
    {
      "cell_type": "code",
      "execution_count": null,
      "metadata": {
        "colab": {
          "base_uri": "https://localhost:8080/"
        },
        "id": "7o7gWdqvuvI3",
        "outputId": "32b04f93-8b22-45a1-9d9f-826852213272"
      },
      "outputs": [
        {
          "name": "stdout",
          "output_type": "stream",
          "text": [
            "sorted list: [-3, 2, 5, 7, 99]\n"
          ]
        }
      ],
      "source": [
        "unsorted_list=[5,2,-3,7,99]\n",
        "sorted_list=sorted(unsorted_list)\n",
        "print(\"sorted list:\",sorted_list)\n"
      ]
    },
    {
      "cell_type": "code",
      "execution_count": null,
      "metadata": {
        "colab": {
          "base_uri": "https://localhost:8080/"
        },
        "id": "q4LHSND32BiF",
        "outputId": "dc7ae46d-6108-4c72-ea70-577a1455910c"
      },
      "outputs": [
        {
          "name": "stdout",
          "output_type": "stream",
          "text": [
            "2\n",
            "(2, 4)\n"
          ]
        }
      ],
      "source": [
        "import numpy as np\n",
        "data2=[[1,2,3,4],[5,5,7,8]]\n",
        "arr2 = np.array(data2)\n",
        "print(arr2.ndim)\n",
        "print(arr2.shape)"
      ]
    },
    {
      "cell_type": "code",
      "execution_count": null,
      "metadata": {
        "colab": {
          "base_uri": "https://localhost:8080/"
        },
        "id": "wsvuHAUV8jNH",
        "outputId": "c6c1475c-19c8-4fc0-992f-d19aede413da"
      },
      "outputs": [
        {
          "name": "stdout",
          "output_type": "stream",
          "text": [
            "2\n",
            "(2, 4)\n"
          ]
        }
      ],
      "source": [
        "import numpy as np\n",
        "data =[[1,2,3,4],[5,6,7,8],[55,66,76,88]]\n",
        "arr2=np.array(data2)\n",
        "print(arr2.ndim)\n",
        "print(arr2.shape)\n"
      ]
    },
    {
      "cell_type": "code",
      "execution_count": null,
      "metadata": {
        "colab": {
          "base_uri": "https://localhost:8080/"
        },
        "id": "-rjUKA_z-esq",
        "outputId": "4a93dd6b-d1af-4b59-c704-06d43cbf4fcc"
      },
      "outputs": [
        {
          "name": "stdout",
          "output_type": "stream",
          "text": [
            "[0 2 4 6 8]\n"
          ]
        }
      ],
      "source": [
        "a = np.arange(0,10,2)\n",
        "print(a)"
      ]
    },
    {
      "cell_type": "code",
      "execution_count": null,
      "metadata": {
        "colab": {
          "base_uri": "https://localhost:8080/"
        },
        "id": "rWrRQQTIAgvw",
        "outputId": "6e89d742-4a65-4340-c7ed-9f89f0ce7c97"
      },
      "outputs": [
        {
          "name": "stdout",
          "output_type": "stream",
          "text": [
            "[[9 0 8]\n",
            " [2 0 2]\n",
            " [2 0 1]]\n"
          ]
        }
      ],
      "source": [
        "a = np.random.randint(0,10,(3,3))\n",
        "print(a)"
      ]
    },
    {
      "cell_type": "code",
      "execution_count": null,
      "metadata": {
        "colab": {
          "base_uri": "https://localhost:8080/"
        },
        "id": "AtY8K9fpA11W",
        "outputId": "ed05ea41-0fc1-4657-c575-bc7263965750"
      },
      "outputs": [
        {
          "name": "stdout",
          "output_type": "stream",
          "text": [
            "[[1. 2. 3.]\n",
            " [4. 5. 6.]]\n"
          ]
        },
        {
          "data": {
            "text/plain": [
              "[4, 5, 6]"
            ]
          },
          "execution_count": 40,
          "metadata": {},
          "output_type": "execute_result"
        }
      ],
      "source": [
        "arr = np.array([[1.,2.,3],[4.,5.,6]])\n",
        "print(arr)\n",
        "[(1,2,3)]\n",
        "[4,5,6]\n"
      ]
    },
    {
      "cell_type": "code",
      "execution_count": null,
      "metadata": {
        "colab": {
          "background_save": true,
          "base_uri": "https://localhost:8080/"
        },
        "id": "DqWp_ckwFZ5g",
        "outputId": "da567f6f-ed87-4440-ad51-9b7ab0861b1e"
      },
      "outputs": [
        {
          "name": "stderr",
          "output_type": "stream",
          "text": [
            "<>:6: SyntaxWarning: 'int' object is not callable; perhaps you missed a comma?\n",
            "<>:6: SyntaxWarning: 'int' object is not callable; perhaps you missed a comma?\n"
          ]
        },
        {
          "name": "stdout",
          "output_type": "stream",
          "text": [
            "Enter row size\n"
          ]
        }
      ],
      "source": [
        "import numpy as np\n",
        "print('Enter row size')\n",
        "r=int(input())\n",
        "print('Enter coiunm size')\n",
        "c=int(input())\n",
        "arr=np.random,randint(0,50((r,c)))\n",
        "print(arr)"
      ]
    },
    {
      "cell_type": "code",
      "source": [],
      "metadata": {
        "id": "vmQl2yZD7I29"
      },
      "execution_count": null,
      "outputs": []
    },
    {
      "cell_type": "code",
      "source": [
        "def gcd_fun(x,y):\n",
        " if(y==0):#\n",
        "   return x\n",
        " else:\n",
        "  return gcd_fun(y,x%y)\n",
        "x =int(input(\"enter the first number:\"))\n",
        "y =int(input(\"enter the second number:\"))\n",
        "num=gcd_fun(x,y)\n",
        "print(\"GCD of two numbers is:\")\n",
        "print(num) # call num"
      ],
      "metadata": {
        "colab": {
          "base_uri": "https://localhost:8080/"
        },
        "id": "fQ4MKb2oCsgn",
        "outputId": "d35eeec9-f356-44ae-ea00-f713ce609637"
      },
      "execution_count": null,
      "outputs": [
        {
          "output_type": "stream",
          "name": "stdout",
          "text": [
            "enter the first number:30\n",
            "enter the second number:40\n",
            "GCD of two numbers is:\n",
            "10\n"
          ]
        }
      ]
    },
    {
      "cell_type": "code",
      "source": [
        "def liner_search(list,n,key):\n",
        "  for i in range(0,n)\n",
        "  if(list[i]) ==key);\n",
        "  return i\n",
        "  return-1\n",
        "  list 1 =[1,3,5,4,7,9]\n",
        "  key = 7\n",
        "  n=len(list)\n",
        "  res=liner_search(list1,n,key)\n",
        "if(res==-1):\n",
        "  print(\"element found at index\",res)"
      ],
      "metadata": {
        "id": "RFVUZukFPPFD"
      },
      "execution_count": null,
      "outputs": []
    }
  ],
  "metadata": {
    "colab": {
      "provenance": [],
      "authorship_tag": "ABX9TyMjr61Zlr8w2CLX7NgAVqSJ",
      "include_colab_link": true
    },
    "kernelspec": {
      "display_name": "Python 3",
      "name": "python3"
    },
    "language_info": {
      "name": "python"
    }
  },
  "nbformat": 4,
  "nbformat_minor": 0
}